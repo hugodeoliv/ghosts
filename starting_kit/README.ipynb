{
 "cells": [
  {
   "cell_type": "markdown",
   "metadata": {},
   "source": [
    "<div style=\"background:#FFFFAA\">\n",
    "<img src=\"nhanes.jpg\", width=150, border=20>\n",
    "<h1>Survival Starting Kit </h1>\n",
    "</div>"
   ]
  },
  {
   "cell_type": "markdown",
   "metadata": {},
   "source": [
    "<div style=\"background:#FFFFAA\">\n",
    "    <h2>Introduction </h2>\n",
    "    <p>\n",
    "    <span style=\"color:red\">  </span>\n",
    "     <br>\n",
    "In this challenge we try to tackle a survival analysis problem from a machine learning perspective. The goal of survival analysis is to predict the expected time before a given event occur. In our case we try to estimate the survival time of patients given some data from the NHANES dataset. \n",
    "\n",
    "Special thanks to our coordinators Kristin Bennett, Alexander New and Andrew for providing a clean aggregated version of the dataset.\n",
    " <br>\n",
    "    <span style=\"color:red\">  </span>\n",
    "</div>"
   ]
  },
  {
   "cell_type": "code",
   "execution_count": 1,
   "metadata": {},
   "outputs": [],
   "source": [
    "model_dir = 'sample_code_submission/'                        # Change the model to a better one once you have one!\n",
    "#model_dir = '../FILES/pretty_good_sample_code_submission/'\n",
    "result_dir = 'sample_result_submission/' \n",
    "problem_dir = 'ingestion_program/'  \n",
    "score_dir = 'scoring_program/'\n",
    "from sys import path; path.append(model_dir); path.append(problem_dir); path.append(score_dir); \n",
    "%matplotlib inline\n",
    "# Uncomment the next lines to auto-reload libraries (this causes some problem with pickles in Python 3)\n",
    "%load_ext autoreload\n",
    "%autoreload 2\n",
    "import seaborn as sns; sns.set()\n",
    "import warnings\n",
    "warnings.simplefilter(action='ignore', category=FutureWarning)"
   ]
  },
  {
   "cell_type": "markdown",
   "metadata": {},
   "source": [
    "<div style=\"background:#FFFFAA\">\n",
    "    <h1> Step 1: Exploratory data analysis </h1>\n",
    "<p>\n",
    "We provide sample_data with the starting kit, but to prepare your submission, you must fetch the public_data from the challenge website and point to it.\n",
    "    <br>\n",
    "    <span style=\"color:red\">  </span>\n",
    "</div>"
   ]
  },
  {
   "cell_type": "code",
   "execution_count": 2,
   "metadata": {},
   "outputs": [
    {
     "name": "stdout",
     "output_type": "stream",
     "text": [
<<<<<<< HEAD
      "Mortality_feat.name    Mortality_test.data\t Mortality_valid.data\r\n",
      "Mortality_label.name   Mortality_train.data\r\n",
      "Mortality_public.info  Mortality_train.solution\r\n"
=======
      " Le volume dans le lecteur C n'a pas de nom.\n",
      " Le num‚ro de s‚rie du volume est 56D3-E7E4\n",
      "\n",
      " R‚pertoire de C:\\Users\\dabidou\\~\\projects\\ghosts\\starting_kit\n",
      "\n",
      "15/02/2019  04:57 PM    <DIR>          public_data\n",
      "               0 fichier(s)                0 octets\n",
      "               1 R‚p(s)   3,356,635,136 octets libres\n"
>>>>>>> ipynb updated
     ]
    }
   ],
   "source": [
    "data_dir = 'public_data'              # Change this to the directory where you put the input data\n",
    "data_name = 'Mortality'\n",
    "!dir $data_dir*"
   ]
  },
  {
   "cell_type": "markdown",
   "metadata": {},
   "source": [
    "For convenience, we load the data as a \"pandas\" data frame, so we can use \"pandas\" and \"seaborn\" built in functions to explore the data."
   ]
  },
  {
   "cell_type": "code",
   "execution_count": 3,
   "metadata": {},
   "outputs": [
    {
     "name": "stdout",
     "output_type": "stream",
     "text": [
      "Reading public_data/Mortality_train from AutoML format\n",
      "Number of examples = 19297\n",
      "Number of features = 10\n",
      "(19297, 10)\n",
      "(19297, 2)\n",
      "(19297, 12)\n"
     ]
    }
   ],
   "source": [
    "from data_io import read_as_df\n",
    "data = read_as_df(data_dir  + '/' + data_name)\n",
    "print(data.shape)# The data are loaded as a Pandas Data Frame"
   ]
  },
  {
   "cell_type": "markdown",
   "metadata": {},
   "source": [
    "Each row is a patient represented by more than 600 features the first of which are:\n",
    "- age : the patient's age \n",
    "- sbp : systolic blood pressure\n",
    "- dbp : diastolic blood pressure\n",
    "- A1c : glycated hemoglobin concentration (A1c test)\n",
    "- bmi : body mass index\n",
    "- gender_male : patient's gender, 0 female, 1 male\n",
    "\n",
    "The initial data contained an ethnicity feature that has been one hot encoded so that the data can be used by models that don't allow categorical data:\n",
    "- ethnicity_NonHispanicBlack : 1 for african american\n",
    "- ethnicity_NonHispanicWhite : 1 for white ethnicity \n",
    "- ethnicity_Other : 1 for neither african american, white or hispanic\n",
    "- ethnicity_OtherHispanic : 1 for hispanic\n",
    "\n",
    "The two last columns target and event are the labels.\n",
    "- target : the survival time to predict \n",
    "- event : if the data is censored (the patient left the study) 1 else 0 \n",
    "\n",
    "The other features meaning are available on the NHANES website."
   ]
  },
  {
   "cell_type": "code",
   "execution_count": 4,
   "metadata": {},
   "outputs": [
    {
     "data": {
      "text/html": [
       "<div>\n",
       "<style scoped>\n",
       "    .dataframe tbody tr th:only-of-type {\n",
       "        vertical-align: middle;\n",
       "    }\n",
       "\n",
       "    .dataframe tbody tr th {\n",
       "        vertical-align: top;\n",
       "    }\n",
       "\n",
       "    .dataframe thead th {\n",
       "        text-align: right;\n",
       "    }\n",
       "</style>\n",
       "<table border=\"1\" class=\"dataframe\">\n",
       "  <thead>\n",
       "    <tr style=\"text-align: right;\">\n",
       "      <th></th>\n",
       "      <th>age</th>\n",
       "      <th>sbp</th>\n",
       "      <th>dbp</th>\n",
       "      <th>A1c</th>\n",
       "      <th>bmi</th>\n",
       "      <th>gender_male</th>\n",
       "      <th>ethnicity_NonHispanicBlack</th>\n",
       "      <th>ethnicity_NonHispanicWhite</th>\n",
       "      <th>ethnicity_Other</th>\n",
       "      <th>ethnicity_OtherHispanic</th>\n",
       "      <th>target</th>\n",
       "      <th>event</th>\n",
       "    </tr>\n",
       "  </thead>\n",
       "  <tbody>\n",
       "    <tr>\n",
       "      <th>0</th>\n",
       "      <td>71</td>\n",
       "      <td>98.666667</td>\n",
       "      <td>60.666667</td>\n",
       "      <td>5.3</td>\n",
       "      <td>29.68</td>\n",
       "      <td>1</td>\n",
       "      <td>0</td>\n",
       "      <td>1</td>\n",
       "      <td>0</td>\n",
       "      <td>0</td>\n",
       "      <td>63.0</td>\n",
       "      <td>0.0</td>\n",
       "    </tr>\n",
       "    <tr>\n",
       "      <th>1</th>\n",
       "      <td>49</td>\n",
       "      <td>130.666667</td>\n",
       "      <td>89.333333</td>\n",
       "      <td>5.5</td>\n",
       "      <td>18.85</td>\n",
       "      <td>1</td>\n",
       "      <td>1</td>\n",
       "      <td>0</td>\n",
       "      <td>0</td>\n",
       "      <td>0</td>\n",
       "      <td>78.0</td>\n",
       "      <td>0.0</td>\n",
       "    </tr>\n",
       "    <tr>\n",
       "      <th>2</th>\n",
       "      <td>48</td>\n",
       "      <td>122.000000</td>\n",
       "      <td>74.666667</td>\n",
       "      <td>5.9</td>\n",
       "      <td>36.16</td>\n",
       "      <td>0</td>\n",
       "      <td>1</td>\n",
       "      <td>0</td>\n",
       "      <td>0</td>\n",
       "      <td>0</td>\n",
       "      <td>112.0</td>\n",
       "      <td>0.0</td>\n",
       "    </tr>\n",
       "    <tr>\n",
       "      <th>3</th>\n",
       "      <td>19</td>\n",
       "      <td>102.000000</td>\n",
       "      <td>61.333333</td>\n",
       "      <td>5.3</td>\n",
       "      <td>21.17</td>\n",
       "      <td>1</td>\n",
       "      <td>1</td>\n",
       "      <td>0</td>\n",
       "      <td>0</td>\n",
       "      <td>0</td>\n",
       "      <td>138.0</td>\n",
       "      <td>0.0</td>\n",
       "    </tr>\n",
       "    <tr>\n",
       "      <th>4</th>\n",
       "      <td>28</td>\n",
       "      <td>107.000000</td>\n",
       "      <td>59.000000</td>\n",
       "      <td>4.8</td>\n",
       "      <td>29.82</td>\n",
       "      <td>0</td>\n",
       "      <td>0</td>\n",
       "      <td>1</td>\n",
       "      <td>0</td>\n",
       "      <td>0</td>\n",
       "      <td>61.0</td>\n",
       "      <td>0.0</td>\n",
       "    </tr>\n",
       "  </tbody>\n",
       "</table>\n",
       "</div>"
      ],
      "text/plain": [
       "   age         sbp        dbp  A1c    bmi  gender_male  \\\n",
       "0   71   98.666667  60.666667  5.3  29.68            1   \n",
       "1   49  130.666667  89.333333  5.5  18.85            1   \n",
       "2   48  122.000000  74.666667  5.9  36.16            0   \n",
       "3   19  102.000000  61.333333  5.3  21.17            1   \n",
       "4   28  107.000000  59.000000  4.8  29.82            0   \n",
       "\n",
       "   ethnicity_NonHispanicBlack  ethnicity_NonHispanicWhite  ethnicity_Other  \\\n",
       "0                           0                           1                0   \n",
       "1                           1                           0                0   \n",
       "2                           1                           0                0   \n",
       "3                           1                           0                0   \n",
       "4                           0                           1                0   \n",
       "\n",
       "   ethnicity_OtherHispanic  target  event  \n",
       "0                        0    63.0    0.0  \n",
       "1                        0    78.0    0.0  \n",
       "2                        0   112.0    0.0  \n",
       "3                        0   138.0    0.0  \n",
       "4                        0    61.0    0.0  "
      ]
     },
     "execution_count": 4,
     "metadata": {},
     "output_type": "execute_result"
    }
   ],
   "source": [
    "data.head()"
   ]
  },
  {
   "cell_type": "markdown",
   "metadata": {},
   "source": [
    "The pandas describe() function give us a quick overview of the data statistics"
   ]
  },
  {
   "cell_type": "code",
   "execution_count": 5,
   "metadata": {},
   "outputs": [
    {
     "data": {
      "text/html": [
       "<div>\n",
       "<style scoped>\n",
       "    .dataframe tbody tr th:only-of-type {\n",
       "        vertical-align: middle;\n",
       "    }\n",
       "\n",
       "    .dataframe tbody tr th {\n",
       "        vertical-align: top;\n",
       "    }\n",
       "\n",
       "    .dataframe thead th {\n",
       "        text-align: right;\n",
       "    }\n",
       "</style>\n",
       "<table border=\"1\" class=\"dataframe\">\n",
       "  <thead>\n",
       "    <tr style=\"text-align: right;\">\n",
       "      <th></th>\n",
       "      <th>age</th>\n",
       "      <th>sbp</th>\n",
       "      <th>dbp</th>\n",
       "      <th>A1c</th>\n",
       "      <th>bmi</th>\n",
       "      <th>gender_male</th>\n",
       "      <th>ethnicity_NonHispanicBlack</th>\n",
       "      <th>ethnicity_NonHispanicWhite</th>\n",
       "      <th>ethnicity_Other</th>\n",
       "      <th>ethnicity_OtherHispanic</th>\n",
       "      <th>target</th>\n",
       "      <th>event</th>\n",
       "    </tr>\n",
       "  </thead>\n",
       "  <tbody>\n",
       "    <tr>\n",
       "      <th>count</th>\n",
       "      <td>19297.000000</td>\n",
       "      <td>19297.000000</td>\n",
       "      <td>19297.000000</td>\n",
       "      <td>19297.000000</td>\n",
       "      <td>19297.000000</td>\n",
       "      <td>19297.000000</td>\n",
       "      <td>19297.000000</td>\n",
       "      <td>19297.000000</td>\n",
       "      <td>19297.000000</td>\n",
       "      <td>19297.000000</td>\n",
       "      <td>19297.000000</td>\n",
       "      <td>19297.000000</td>\n",
       "    </tr>\n",
       "    <tr>\n",
       "      <th>mean</th>\n",
       "      <td>46.632793</td>\n",
       "      <td>124.188492</td>\n",
       "      <td>69.254426</td>\n",
       "      <td>5.570083</td>\n",
       "      <td>28.246865</td>\n",
       "      <td>0.483650</td>\n",
       "      <td>0.202156</td>\n",
       "      <td>0.479142</td>\n",
       "      <td>0.038192</td>\n",
       "      <td>0.057781</td>\n",
       "      <td>89.611235</td>\n",
       "      <td>0.098720</td>\n",
       "    </tr>\n",
       "    <tr>\n",
       "      <th>std</th>\n",
       "      <td>19.854414</td>\n",
       "      <td>20.036147</td>\n",
       "      <td>13.843717</td>\n",
       "      <td>1.013537</td>\n",
       "      <td>6.344524</td>\n",
       "      <td>0.499746</td>\n",
       "      <td>0.401618</td>\n",
       "      <td>0.499578</td>\n",
       "      <td>0.191666</td>\n",
       "      <td>0.233335</td>\n",
       "      <td>35.819216</td>\n",
       "      <td>0.298293</td>\n",
       "    </tr>\n",
       "    <tr>\n",
       "      <th>min</th>\n",
       "      <td>18.000000</td>\n",
       "      <td>72.666667</td>\n",
       "      <td>0.000000</td>\n",
       "      <td>2.000000</td>\n",
       "      <td>12.040000</td>\n",
       "      <td>0.000000</td>\n",
       "      <td>0.000000</td>\n",
       "      <td>0.000000</td>\n",
       "      <td>0.000000</td>\n",
       "      <td>0.000000</td>\n",
       "      <td>1.000000</td>\n",
       "      <td>0.000000</td>\n",
       "    </tr>\n",
       "    <tr>\n",
       "      <th>25%</th>\n",
       "      <td>29.000000</td>\n",
       "      <td>110.666667</td>\n",
       "      <td>62.000000</td>\n",
       "      <td>5.100000</td>\n",
       "      <td>23.850000</td>\n",
       "      <td>0.000000</td>\n",
       "      <td>0.000000</td>\n",
       "      <td>0.000000</td>\n",
       "      <td>0.000000</td>\n",
       "      <td>0.000000</td>\n",
       "      <td>58.000000</td>\n",
       "      <td>0.000000</td>\n",
       "    </tr>\n",
       "    <tr>\n",
       "      <th>50%</th>\n",
       "      <td>45.000000</td>\n",
       "      <td>120.666667</td>\n",
       "      <td>70.000000</td>\n",
       "      <td>5.400000</td>\n",
       "      <td>27.340000</td>\n",
       "      <td>0.000000</td>\n",
       "      <td>0.000000</td>\n",
       "      <td>0.000000</td>\n",
       "      <td>0.000000</td>\n",
       "      <td>0.000000</td>\n",
       "      <td>88.000000</td>\n",
       "      <td>0.000000</td>\n",
       "    </tr>\n",
       "    <tr>\n",
       "      <th>75%</th>\n",
       "      <td>63.000000</td>\n",
       "      <td>134.000000</td>\n",
       "      <td>77.333333</td>\n",
       "      <td>5.700000</td>\n",
       "      <td>31.530000</td>\n",
       "      <td>1.000000</td>\n",
       "      <td>0.000000</td>\n",
       "      <td>1.000000</td>\n",
       "      <td>0.000000</td>\n",
       "      <td>0.000000</td>\n",
       "      <td>121.000000</td>\n",
       "      <td>0.000000</td>\n",
       "    </tr>\n",
       "    <tr>\n",
       "      <th>max</th>\n",
       "      <td>85.000000</td>\n",
       "      <td>270.000000</td>\n",
       "      <td>132.000000</td>\n",
       "      <td>18.800000</td>\n",
       "      <td>130.210000</td>\n",
       "      <td>1.000000</td>\n",
       "      <td>1.000000</td>\n",
       "      <td>1.000000</td>\n",
       "      <td>1.000000</td>\n",
       "      <td>1.000000</td>\n",
       "      <td>153.000000</td>\n",
       "      <td>1.000000</td>\n",
       "    </tr>\n",
       "  </tbody>\n",
       "</table>\n",
       "</div>"
      ],
      "text/plain": [
       "                age           sbp           dbp           A1c           bmi  \\\n",
       "count  19297.000000  19297.000000  19297.000000  19297.000000  19297.000000   \n",
       "mean      46.632793    124.188492     69.254426      5.570083     28.246865   \n",
       "std       19.854414     20.036147     13.843717      1.013537      6.344524   \n",
       "min       18.000000     72.666667      0.000000      2.000000     12.040000   \n",
       "25%       29.000000    110.666667     62.000000      5.100000     23.850000   \n",
       "50%       45.000000    120.666667     70.000000      5.400000     27.340000   \n",
       "75%       63.000000    134.000000     77.333333      5.700000     31.530000   \n",
       "max       85.000000    270.000000    132.000000     18.800000    130.210000   \n",
       "\n",
       "        gender_male  ethnicity_NonHispanicBlack  ethnicity_NonHispanicWhite  \\\n",
       "count  19297.000000                19297.000000                19297.000000   \n",
       "mean       0.483650                    0.202156                    0.479142   \n",
       "std        0.499746                    0.401618                    0.499578   \n",
       "min        0.000000                    0.000000                    0.000000   \n",
       "25%        0.000000                    0.000000                    0.000000   \n",
       "50%        0.000000                    0.000000                    0.000000   \n",
       "75%        1.000000                    0.000000                    1.000000   \n",
       "max        1.000000                    1.000000                    1.000000   \n",
       "\n",
       "       ethnicity_Other  ethnicity_OtherHispanic        target         event  \n",
       "count     19297.000000             19297.000000  19297.000000  19297.000000  \n",
       "mean          0.038192                 0.057781     89.611235      0.098720  \n",
       "std           0.191666                 0.233335     35.819216      0.298293  \n",
       "min           0.000000                 0.000000      1.000000      0.000000  \n",
       "25%           0.000000                 0.000000     58.000000      0.000000  \n",
       "50%           0.000000                 0.000000     88.000000      0.000000  \n",
       "75%           0.000000                 0.000000    121.000000      0.000000  \n",
       "max           1.000000                 1.000000    153.000000      1.000000  "
      ]
     },
     "execution_count": 5,
     "metadata": {},
     "output_type": "execute_result"
    }
   ],
   "source": [
    "data.describe() "
   ]
  },
  {
   "cell_type": "code",
   "execution_count": 6,
   "metadata": {},
   "outputs": [],
   "source": [
    "import numpy as np\n",
    "import pandas as pd\n",
    "import matplotlib.pyplot as plt\n",
    "import seaborn as sns\n",
    "\n",
    "from functools import reduce\n",
    "from lifelines import KaplanMeierFitter, CoxPHFitter\n",
    "from lifelines.utils import concordance_index\n",
    "from sklearn.model_selection import train_test_split"
   ]
  },
  {
   "cell_type": "markdown",
   "metadata": {},
   "source": [
    "In the next cell, we plot histograms of survival time for censored (0) and uncensored (1) examples.\n",
    "\n",
    "We can see that there are no examples of censored example with a low survival time. We can also see that there are more censored data than uncensored"
   ]
  },
  {
   "cell_type": "code",
   "execution_count": 7,
   "metadata": {},
   "outputs": [
    {
     "data": {
<<<<<<< HEAD
      "image/png": "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\n",
=======
      "image/png": "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\n",
>>>>>>> ipynb updated
      "text/plain": [
       "<Figure size 432x288 with 2 Axes>"
      ]
     },
     "metadata": {
      "needs_background": "light"
     },
     "output_type": "display_data"
    }
   ],
   "source": [
    "ax=data.hist(column='target', by='event', bins=100, layout=(2,1), log=True, sharex=True, sharey=True)"
   ]
  },
  {
   "cell_type": "code",
   "execution_count": 8,
   "metadata": {},
   "outputs": [
    {
     "data": {
<<<<<<< HEAD
      "image/png": "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\n",
=======
      "image/png": "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\n",
>>>>>>> ipynb updated
      "text/plain": [
       "<Figure size 432x288 with 2 Axes>"
      ]
     },
     "metadata": {
      "needs_background": "light"
     },
     "output_type": "display_data"
    }
   ],
   "source": [
    "# Better visualise the difference \n",
    "ax = data.hist(column='target', by=['event'], bins=30, sharex=True)"
   ]
  },
  {
   "cell_type": "markdown",
   "metadata": {},
   "source": [
    "We have around 90% of censored data."
   ]
  },
  {
   "cell_type": "code",
   "execution_count": 9,
   "metadata": {},
   "outputs": [
    {
     "name": "stdout",
     "output_type": "stream",
     "text": [
      "Number of uncensored examples : 1905\n",
      "Number of censored examples : 17392\n",
      "0.9012799917085558\n"
     ]
    }
   ],
   "source": [
    "df2 = data.loc[data['event'] == 1]\n",
    "nb_uncensored = len(df2)\n",
    "print('Number of uncensored examples : '+str(nb_uncensored))\n",
    "df2 = data.loc[data['event'] == 0]\n",
    "nb_censored = len(df2)\n",
    "print('Number of censored examples : '+str(nb_censored))\n",
    "print(nb_censored / (nb_uncensored + nb_censored))"
   ]
  },
  {
   "cell_type": "markdown",
   "metadata": {},
   "source": [
    "We next plot the same histograms by gender (0 female, 1 male), male survival seems slightly lower.\n"
   ]
  },
  {
   "cell_type": "code",
   "execution_count": 10,
   "metadata": {
    "scrolled": true
   },
   "outputs": [
    {
     "data": {
<<<<<<< HEAD
      "image/png": "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\n",
=======
      "image/png": "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\n",
>>>>>>> ipynb updated
      "text/plain": [
       "<Figure size 720x576 with 4 Axes>"
      ]
     },
     "metadata": {
      "needs_background": "light"
     },
     "output_type": "display_data"
    }
   ],
   "source": [
    "# Lifetime distribution by gender \n",
    "ax = data.hist(column='target', by=['gender_male','event'], bins=50\n",
    "             ,sharex=True, figsize=(10,8))"
   ]
  },
  {
   "cell_type": "markdown",
   "metadata": {},
   "source": [
    "<div style=\"background:#FFFFAA\">\n",
    "<h1>Step 2: Building a predictive model</h1>\n",
    "</div>"
   ]
  },
  {
   "cell_type": "markdown",
   "metadata": {},
   "source": [
    "<div style=\"background:#FFFFAA\">\n",
    "    <h2>Loading data with DataManager</h2>\n",
    "    <p>\n",
    "We reload the data with the AutoML DataManager class because this is more convenient:\n",
    "   <br>     <span style=\"color:red\"> </span>\n",
    "</div>"
   ]
  },
  {
   "cell_type": "code",
   "execution_count": 11,
   "metadata": {},
   "outputs": [
    {
     "name": "stdout",
     "output_type": "stream",
     "text": [
      "Info file found : /home/steven/projects/ghosts/starting_kit/public_data/Mortality_public.info\n",
      "DataManager : Mortality\n",
      "info:\n",
      "\tusage = Continuous NHANES Mortality data\n",
      "\tname = mortality\n",
      "\ttask = multilabel.classification\n",
      "\ttarget_type = Numerical\n",
      "\tfeat_type = Numerical\n",
      "\tmetric = concordance_index\n",
      "\ttime_budget = 1200\n",
      "\tfeat_num = 11\n",
      "\ttarget_num = 1\n",
      "\tlabel_num = 2\n",
      "\ttrain_num = 19297\n",
      "\tvalid_num = 2171\n",
      "\ttest_num = 2412\n",
      "\thas_categorical = 0\n",
      "\thas_missing = 0\n",
      "\tis_sparse = 0\n",
      "\tformat = dense\n",
      "data:\n",
      "\tX_train = array(19297, 10)\n",
      "\tY_train = array(19297, 2)\n",
      "\tX_valid = array(2413, 10)\n",
      "\tY_valid = array(0,)\n",
      "\tX_test = array(2412, 10)\n",
      "\tY_test = array(0,)\n",
      "feat_type:\tarray(11,)\n",
      "feat_idx:\tarray(0,)\n",
      "\n"
     ]
    }
   ],
   "source": [
    "from data_manager import DataManager\n",
    "D = DataManager(data_name, data_dir, replace_missing=True)\n",
    "print(D)"
   ]
  },
  {
   "cell_type": "markdown",
   "metadata": {},
   "source": [
    "<div style=\"background:#FFFFAA\">\n",
    "    <h2>Training a predictive model</h2>\n",
    "    <p>\n",
    "We provide an example of predictive model (for classification or regression) in the `sample_code_submission/` directory. It is a quite stupid model: it makes constant predictions. Replace it with your own model.\n",
    "    </div>"
   ]
  },
  {
   "cell_type": "code",
<<<<<<< HEAD
   "execution_count": 12,
=======
   "execution_count": 18,
>>>>>>> ipynb updated
   "metadata": {},
   "outputs": [
    {
     "name": "stderr",
     "output_type": "stream",
     "text": [
      "/home/steven/anaconda3/lib/python3.6/site-packages/sklearn/ensemble/weight_boosting.py:29: DeprecationWarning: numpy.core.umath_tests is an internal NumPy module and should not be imported. It will be removed in a future NumPy release.\n",
      "  from numpy.core.umath_tests import inner1d\n"
     ]
    }
   ],
   "source": [
    "from data_io import write\n",
    "from model import model\n",
    "import pickle\n",
    "import numpy as np   # We recommend to use numpy arrays\n",
    "from os.path import isfile\n",
    "from sklearn.base import BaseEstimator\n",
    "from sklearn import preprocessing\n",
<<<<<<< HEAD
    "import UnitTest as Test\n",
    "import zPreprocessing as zprepro"
=======
    "\n",
    "import zPreprocessing as z"
>>>>>>> ipynb updated
   ]
  },
  {
   "cell_type": "markdown",
   "metadata": {},
   "source": [
    "<div style=\"background:#FFFFAA\">\n",
    "an instance of the model (run the constructor) and attempt to reload a previously saved version from `sample_code_submission/`:\n",
    "\n",
    "To build custom model you can edit the model.py we gave you and zip it with the metadata file so you can make a submission. You can also test the model here. \n",
    "</div>"
   ]
  },
  {
   "cell_type": "code",
<<<<<<< HEAD
   "execution_count": 13,
=======
   "execution_count": null,
   "metadata": {},
   "outputs": [],
   "source": []
  },
  {
   "cell_type": "code",
   "execution_count": 19,
>>>>>>> ipynb updated
   "metadata": {},
   "outputs": [],
   "source": [
    "# Instantiate you model \n",
<<<<<<< HEAD
    "M = model()"
=======
    "M = model()\n",
    "P = z.zePreproDeLaMort()"
>>>>>>> ipynb updated
   ]
  },
  {
   "cell_type": "code",
<<<<<<< HEAD
   "execution_count": 14,
=======
   "execution_count": 20,
>>>>>>> ipynb updated
   "metadata": {
    "scrolled": true
   },
   "outputs": [
    {
     "name": "stdout",
     "output_type": "stream",
     "text": [
      "FIT: dim(X)= [19297, 10]\n",
      "FIT: dim(y)= [19297, 2]\n",
      "PREDICT: dim(X)= [19297, 10]\n",
      "PREDICT: dim(y)= [19297, 2]\n",
      "DEBUG : (19297,)\n",
      "PREDICT: dim(X)= [2413, 10]\n",
      "PREDICT: dim(y)= [2413, 2]\n",
      "DEBUG : (2413,)\n",
      "PREDICT: dim(X)= [2412, 10]\n",
      "PREDICT: dim(y)= [2412, 2]\n",
      "DEBUG : (2412,)\n"
     ]
<<<<<<< HEAD
    }
   ],
   "source": [
    "if not(M.is_trained):\n",
    "    X_train = D.data['X_train']\n",
    "    Y_train = D.data['Y_train']\n",
    "    #M.fit(X_train, Y_train\n",
    "    #X = zprepro.zePreproDeLaMort.fit_transform(X_train)\n",
    "    M.fit(X_train,Y_train)\n",
    "Y_hat_train = M.predict(D.data['X_train']) # Optional, not really needed to test on training examples\n",
    "Y_hat_valid = M.predict(D.data['X_valid'])\n",
    "Y_hat_test = M.predict(D.data['X_test'])\n",
    "\n",
    "Y_valid = D.data['Y_valid']\n",
    "Y_test = D.data['Y_test']"
   ]
  },
  {
   "cell_type": "code",
   "execution_count": 15,
   "metadata": {},
   "outputs": [
    {
     "name": "stdout",
     "output_type": "stream",
     "text": [
      "True\n",
      "True\n",
      "True\n"
     ]
    },
    {
     "data": {
      "text/plain": [
       "'\\ndef testPrepro(): #il marche pas trop bien\\n        prepro = zprepro.zePreproDeLaMort()\\n        fitTab = zprepro.zePreproDeLaMort.fit(np.loadtxt(\"public_data/Mortality_train.data\", delimiter=\" \"))\\n        transformTab = zprepro.transform(fitTab)\\n        fitArray = list_to_array(fitTab)\\n        transformTab = transform(fitTab, filename1)\\n        transformArray = list_to_array(transformTab) \\ntestPrepro()\\n'"
      ]
     },
     "execution_count": 15,
     "metadata": {},
     "output_type": "execute_result"
    }
   ],
   "source": [
    "\"\"\"\n",
    "Test unitaires\n",
    "\"\"\"\n",
    "def testPredict(): #inspire du group Survivers\n",
    "    for i in range (X_train.shape[0]):\n",
    "        if X_train[i,X_train.shape[1]-1] == 0 :\n",
    "            return True \n",
    "    return False\n",
    "        \n",
    "print(testPredict())\n",
=======
    }
   ],
   "source": [
    "if not(M.is_trained):\n",
    "    X_train = D.data['X_train']\n",
    "    pd.DataFrame(X_train).head()\n",
    "    Y_train = D.data['Y_train']\n",
    "    M.fit(X_train, Y_train)\n",
    "\n",
    "Y_hat_train = M.predict(D.data['X_train']) # Optional, not really needed to test on taining examples\n",
    "Y_hat_valid = M.predict(D.data['X_valid'])\n",
    "Y_hat_test = M.predict(D.data['X_test'])\n",
>>>>>>> ipynb updated
    "\n",
    "def testCompatibilityTrain():\n",
    "    return X_train.shape[0] == Y_train.shape[0]\n",
    "                            \n",
    "def testCompatibility():\n",
    "    return Y_valid.shape[0] == Y_test.shape[0]\n",
    "print(testCompatibilityTrain())\n",
    "print(testCompatibility())\n",
    "\"\"\"\n",
    "def testPrepro(): #il marche pas trop bien\n",
    "        prepro = zprepro.zePreproDeLaMort()\n",
    "        fitTab = zprepro.zePreproDeLaMort.fit(np.loadtxt(\"public_data/Mortality_train.data\", delimiter=\" \"))\n",
    "        transformTab = zprepro.transform(fitTab)\n",
    "        fitArray = list_to_array(fitTab)\n",
    "        transformTab = transform(fitTab, filename1)\n",
    "        transformArray = list_to_array(transformTab) \n",
    "testPrepro()\n",
    "\"\"\""
   ]
  },
  {
   "cell_type": "markdown",
   "metadata": {},
   "source": [
    "<div style=\"background:#FFFFAA\">\n",
    "    Train the model (unless you reloaded a trained model) and make predictions. \n",
    "</div>"
   ]
  },
  {
   "cell_type": "markdown",
   "metadata": {},
   "source": [
    "<div style=\"background:#FFFFAA\">\n",
    "    <b> Save the trained model </b> (will be ready to reload next time around) and save the prediction results. IMPORTANT: if you save the trained model, it will be bundled with your sample code submission. Therefore your model will NOT be retrained on the challenge platform. Remove the pickle from the submission if you want the model to be retrained on the platform.\n",
    "</div>"
   ]
  },
  {
   "cell_type": "code",
<<<<<<< HEAD
   "execution_count": 16,
=======
   "execution_count": 21,
>>>>>>> ipynb updated
   "metadata": {},
   "outputs": [],
   "source": [
    "#Uncomment if you want to save the model and or save the results\n",
    "#M.save(trained_model_name)                 \n",
    "#result_name = result_dir + data_name\n",
    "#from data_io import write\n",
    "#write(result_name + '_train.predict', Y_hat_train)\n",
    "#write(result_name + '_valid.predict', Y_hat_valid)\n",
    "#write(result_name + '_test.predict', Y_hat_test)\n",
    "#!ls $result_name*"
   ]
  },
  {
   "cell_type": "markdown",
   "metadata": {},
   "source": [
    "<div style=\"background:#FFFFAA\">\n",
    "    <h2>Scoring the results</h2>\n",
    "    <h3>Load the challenge metric</h3>\n",
    "    <p>\n",
    "<b>The metric chosen for your challenge</b> is identified in the \"metric.txt\" file found in the `scoring_function/` directory. The function \"get_metric\" searches first for a metric having that name in my_metric.py, then in libscores.py, then in sklearn.metric.\n",
    "    </div>"
   ]
  },
  {
   "cell_type": "code",
<<<<<<< HEAD
   "execution_count": 17,
=======
   "execution_count": 22,
>>>>>>> ipynb updated
   "metadata": {},
   "outputs": [
    {
     "name": "stdout",
     "output_type": "stream",
     "text": [
      "Using scoring metric: custom_c_index\n",
      "The metric is between 0 and 1. The higher the better\n"
     ]
    }
   ],
   "source": [
    "from libscores import get_metric\n",
    "metric_name, scoring_function = get_metric()\n",
    "print('Using scoring metric:', metric_name)\n",
    "print('The metric is between 0 and 1. The higher the better')"
   ]
  },
  {
   "cell_type": "markdown",
   "metadata": {},
   "source": [
    "<div style=\"background:#FFFFAA\">\n",
    "    <h3> Training performance </h3>\n",
    "    <p>\n",
    "The participants normally posess target values (labels) only for training examples (except for the sample data). We compute with the `example` metric the training score, which should be zero for perfect predictions.\n",
    "        </div>"
   ]
  },
  {
   "cell_type": "code",
<<<<<<< HEAD
   "execution_count": 18,
=======
   "execution_count": 23,
>>>>>>> ipynb updated
   "metadata": {},
   "outputs": [
    {
     "name": "stdout",
     "output_type": "stream",
     "text": [
<<<<<<< HEAD
      "Training score for the custom_c_index metric = 0.5195\n",
=======
      "Training score for the custom_c_index metric = 0.4914\n",
>>>>>>> ipynb updated
      "Ideal score for the custom_c_index metric = 1.0000\n"
     ]
    }
   ],
   "source": [
    "print('Training score for the', metric_name, 'metric = %5.4f' % scoring_function(Y_train, Y_hat_train))\n",
    "#print('Valid score for the', metric_name, 'metric = %5.4f' % scoring_function(Y_valid, Y_hat_valid))\n",
    "#print('Test score for the', metric_name, 'metric = %5.4f' % scoring_function(Y_test, Y_hat_test))\n",
    "print('Ideal score for the', metric_name, 'metric = %5.4f' % scoring_function(Y_train, Y_train[:,0]))"
   ]
  },
  {
   "cell_type": "markdown",
   "metadata": {},
   "source": [
    "<div style=\"background:#FFFFAA\">\n",
    "    <h3>Cross-validation performance</h3>\n",
    "    <p>\n",
    "The participants do not have access to the labels Y_valid and Y_test to self-assess their validation and test performances. But training performance is not a good prediction of validation or test performance. Using cross-validation, the training data is split into multiple training/test folds, which allows participants to self-assess their model during development. The average CV result and 95% confidence interval is displayed.\n",
    "   </div>"
   ]
  },
  {
   "cell_type": "code",
<<<<<<< HEAD
   "execution_count": 19,
=======
   "execution_count": 24,
>>>>>>> ipynb updated
   "metadata": {},
   "outputs": [
    {
     "name": "stdout",
     "output_type": "stream",
     "text": [
      "FIT: dim(X)= [15437, 10]\n",
      "FIT: dim(y)= [15437, 2]\n",
      "PREDICT: dim(X)= [3860, 10]\n",
      "PREDICT: dim(y)= [3860, 2]\n",
      "DEBUG : (3860,)\n",
      "FIT: dim(X)= [15437, 10]\n",
      "FIT: dim(y)= [15437, 2]\n",
      "PREDICT: dim(X)= [3860, 10]\n",
      "PREDICT: dim(y)= [3860, 2]\n",
      "DEBUG : (3860,)\n",
      "FIT: dim(X)= [15438, 10]\n",
      "FIT: dim(y)= [15438, 2]\n",
      "PREDICT: dim(X)= [3859, 10]\n",
      "PREDICT: dim(y)= [3859, 2]\n",
      "DEBUG : (3859,)\n",
      "FIT: dim(X)= [15438, 10]\n",
      "FIT: dim(y)= [15438, 2]\n",
      "PREDICT: dim(X)= [3859, 10]\n",
      "PREDICT: dim(y)= [3859, 2]\n",
      "DEBUG : (3859,)\n",
      "FIT: dim(X)= [15438, 10]\n",
      "FIT: dim(y)= [15438, 2]\n",
      "PREDICT: dim(X)= [3859, 10]\n",
      "PREDICT: dim(y)= [3859, 2]\n",
      "DEBUG : (3859,)\n",
      "\n",
<<<<<<< HEAD
      "CV score (95 perc. CI): 0.50 (+/- 0.03)\n"
=======
      "CV score (95 perc. CI): 0.49 (+/- 0.03)\n"
>>>>>>> ipynb updated
     ]
    }
   ],
   "source": [
    "from sklearn.metrics import make_scorer\n",
    "from sklearn.model_selection import cross_val_score\n",
    "scores = cross_val_score(M, X_train, Y_train, cv=5, scoring=make_scorer(scoring_function))\n",
    "print('\\nCV score (95 perc. CI): %0.2f (+/- %0.2f)' % (scores.mean(), scores.std() * 2))"
   ]
  },
  {
   "cell_type": "markdown",
   "metadata": {},
   "source": [
    "<div style=\"background:#FFFFAA\">\n",
    "<h1> Step 3: Making a submission </h1> \n",
    "\n",
    "<h2> Unit testing </h2> \n",
    "\n",
    "It is <b><span style=\"color:red\">important that you test your submission files before submitting them</span></b>. All you have to do to make a submission is modify the file <code>model.py</code> in the <code>sample_code_submission/</code> directory, then run this test to make sure everything works fine. This is the actual program that will be run on the server to test your submission. \n",
    "<br>\n",
    "Keep the sample code simple.\n",
    "</div>"
   ]
  },
  {
   "cell_type": "code",
<<<<<<< HEAD
   "execution_count": 20,
=======
   "execution_count": 25,
>>>>>>> ipynb updated
   "metadata": {
    "scrolled": true
   },
   "outputs": [
    {
     "name": "stdout",
     "output_type": "stream",
     "text": [
      "/bin/sh: 1: source: not found\n",
      "Using input_dir: /home/steven/projects/ghosts/starting_kit/public_data\n",
      "Using output_dir: /home/steven/projects/ghosts/starting_kit/sample_result_submission\n",
      "Using program_dir: /home/steven/projects/ghosts/starting_kit/ingestion_program\n",
      "Using submission_dir: /home/steven/projects/ghosts/starting_kit/sample_code_submission\n",
      "/home/steven/anaconda3/lib/python3.6/site-packages/sklearn/ensemble/weight_boosting.py:29: DeprecationWarning: numpy.core.umath_tests is an internal NumPy module and should not be imported. It will be removed in a future NumPy release.\n",
      "  from numpy.core.umath_tests import inner1d\n",
      "\n",
      "========== Ingestion program version 6 ==========\n",
      "\n",
      "************************************************\n",
      "******** Processing dataset Mortality ********\n",
      "************************************************\n",
      "========= Reading and converting data ==========\n",
      "Info file found : /home/steven/projects/ghosts/starting_kit/public_data/Mortality_public.info\n",
      "========= Reading /home/steven/projects/ghosts/starting_kit/public_data/Mortality_feat.type\n",
      "[+] Success in  0.00 sec\n",
      "========= Reading /home/steven/projects/ghosts/starting_kit/public_data/Mortality_train.data\n",
      "Replace missing values by 0 (slow, sorry)\n",
      "[+] Success in  0.06 sec\n",
      "========= Reading /home/steven/projects/ghosts/starting_kit/public_data/Mortality_train.solution\n",
      "[+] Success in  0.03 sec\n",
      "========= Reading /home/steven/projects/ghosts/starting_kit/public_data/Mortality_valid.data\n",
      "Replace missing values by 0 (slow, sorry)\n",
      "[+] Success in  0.01 sec\n",
      "========= Reading /home/steven/projects/ghosts/starting_kit/public_data/Mortality_valid.solution\n",
      "[+] Success in  0.00 sec\n",
      "========= Reading /home/steven/projects/ghosts/starting_kit/public_data/Mortality_test.data\n",
      "Replace missing values by 0 (slow, sorry)\n",
      "[+] Success in  0.01 sec\n",
      "========= Reading /home/steven/projects/ghosts/starting_kit/public_data/Mortality_test.solution\n",
      "[+] Success in  0.00 sec\n",
      "DataManager : Mortality\n",
      "info:\n",
      "\tusage = Continuous NHANES Mortality data\n",
      "\tname = mortality\n",
      "\ttask = multilabel.classification\n",
      "\ttarget_type = Numerical\n",
      "\tfeat_type = Numerical\n",
      "\tmetric = concordance_index\n",
      "\ttime_budget = 1200\n",
      "\tfeat_num = 11\n",
      "\ttarget_num = 1\n",
      "\tlabel_num = 2\n",
      "\ttrain_num = 19297\n",
      "\tvalid_num = 2171\n",
      "\ttest_num = 2412\n",
      "\thas_categorical = 0\n",
      "\thas_missing = 0\n",
      "\tis_sparse = 0\n",
      "\tformat = dense\n",
      "data:\n",
      "\tX_train = array(19297, 10)\n",
      "\tY_train = array(19297, 2)\n",
      "\tX_valid = array(2413, 10)\n",
      "\tY_valid = array(0,)\n",
      "\tX_test = array(2412, 10)\n",
      "\tY_test = array(0,)\n",
      "feat_type:\tarray(11,)\n",
      "feat_idx:\tarray(10,)\n",
      "\n",
      "[+] Size of uploaded data  56.00 bytes\n",
      "[+] Cumulated time budget (all tasks so far)  1200.00 sec\n",
      "[+] Time budget for this task 1200.00 sec\n",
      "[+] Remaining time after reading data 1199.90 sec\n",
      "======== Creating model ==========\n",
      "**********************************************************\n",
      "****** Attempting to reload model to avoid training ******\n",
      "**********************************************************\n",
      "Model reloaded from: /home/steven/projects/ghosts/starting_kit/sample_code_submission/Mortality_model.pickle\n",
      "[+] Model reloaded, no need to train!\n",
      "PREDICT: dim(X)= [19297, 10]\n",
      "ARRGH: number of features in X does not match training data!\n",
      "PREDICT: dim(y)= [19297, 2]\n",
      "Traceback (most recent call last):\n",
      "  File \"ingestion_program//ingestion.py\", line 229, in <module>\n",
      "    Y_train = M.predict(D.data['X_train'])\n",
      "  File \"/home/steven/projects/ghosts/starting_kit/sample_code_submission/model.py\", line 121, in predict\n",
      "    pred = self.baseline_clf.predict(X)\n",
      "  File \"/home/steven/anaconda3/lib/python3.6/site-packages/sklearn/tree/tree.py\", line 412, in predict\n",
      "    X = self._validate_X_predict(X, check_input)\n",
      "  File \"/home/steven/anaconda3/lib/python3.6/site-packages/sklearn/tree/tree.py\", line 384, in _validate_X_predict\n",
      "    % (self.n_features_, n_features))\n",
      "ValueError: Number of features of the model must match the input. Model n_features is 681 and input n_features is 10 \n"
     ]
    }
   ],
   "source": [
    "!source activate python3; python $problem_dir/ingestion.py $data_dir $result_dir $problem_dir $model_dir"
   ]
  },
  {
   "cell_type": "markdown",
   "metadata": {},
   "source": [
    "<div style=\"background:#FFFFAA\">\n",
    "Also test the scoring program:\n",
    "    </div>"
   ]
  },
  {
   "cell_type": "code",
<<<<<<< HEAD
   "execution_count": 21,
=======
   "execution_count": 26,
>>>>>>> ipynb updated
   "metadata": {},
   "outputs": [
    {
     "name": "stdout",
     "output_type": "stream",
     "text": [
      "/bin/sh: 1: source: not found\n",
      "======= Set 1 (Mortality_train): custom_c_index(set1_score)=ERROR =======\n"
     ]
    }
   ],
   "source": [
    "scoring_output_dir = '../scoring_output_dir'\n",
    "!source activate python3; python $score_dir/score.py $data_dir $result_dir $scoring_output_dir"
   ]
  },
  {
   "cell_type": "markdown",
   "metadata": {
    "collapsed": true
   },
   "source": [
    "<div style=\"background:#FFFFAA\">\n",
    "    <h1> Preparing the submission </h1>\n",
    "\n",
    "Zip the contents of `sample_code_submission/` (without the directory), or download the challenge public_data and run the command in the previous cell, after replacing sample_data by public_data.\n",
    "Then zip the contents of `sample_result_submission/` (without the directory).\n",
    "<b><span style=\"color:red\">Do NOT zip the data with your submissions</span></b>."
   ]
  },
  {
   "cell_type": "code",
<<<<<<< HEAD
   "execution_count": 22,
=======
   "execution_count": 27,
>>>>>>> ipynb updated
   "metadata": {},
   "outputs": [
    {
     "name": "stdout",
     "output_type": "stream",
     "text": [
      "Submit one of these files:\n",
<<<<<<< HEAD
      "../sample_code_submission_19-03-26-23-16.zip\n",
      "../sample_result_submission_19-03-26-23-16.zip\n"
=======
      "../sample_code_submission_19-03-29-15-49.zip\n",
      "../sample_result_submission_19-03-29-15-49.zip\n"
>>>>>>> ipynb updated
     ]
    }
   ],
   "source": [
    "import datetime \n",
    "from data_io import zipdir\n",
    "the_date = datetime.datetime.now().strftime(\"%y-%m-%d-%H-%M\")\n",
    "sample_code_submission = '../sample_code_submission_' + the_date + '.zip'\n",
    "sample_result_submission = '../sample_result_submission_' + the_date + '.zip'\n",
    "zipdir(sample_code_submission, model_dir)\n",
    "zipdir(sample_result_submission, result_dir)\n",
    "print(\"Submit one of these files:\\n\" + sample_code_submission + \"\\n\" + sample_result_submission)"
   ]
  },
  {
   "cell_type": "code",
   "execution_count": null,
   "metadata": {},
   "outputs": [],
   "source": []
  },
  {
   "cell_type": "code",
<<<<<<< HEAD
   "execution_count": 23,
   "metadata": {},
   "outputs": [],
   "source": [
    "import numpy as np\n",
    "from sklearn.base import BaseEstimator\n",
    "#INITIALISER X POUR TESTER\n",
    "class zePreproDeLaMort(BaseEstimator):\n",
    "    \n",
    "    def __init__(self):\n",
    "        self.uncensoredLines = []\n",
    "        \n",
    "    def fit(self, X, y = None):\n",
    "        l = 0\n",
    "        with open(filename, \"r\") as file:\n",
    "            for line in file:\n",
    "                l+=1\n",
    "                word = line.split(\" \")[-1]\n",
    "                if int(word) == 0:\n",
    "                    self.uncensoredLines.append(l)\n",
    "        return uncensoredLines\n",
    "\n",
    "    def list_to_array(tab):\n",
    "        return np.asarray(tab)\n",
    "\n",
    "    def transform(Lines, filename):\n",
    "        res = []\n",
    "        word = []\n",
    "        cpt = 0\n",
    "        l = -1\n",
    "        with open(filename, \"r\") as file:\n",
    "            for line in file:\n",
    "                l+=1        \n",
    "                if l == self.uncensoredLines[cpt] - 1:\n",
    "                    for m in line.split(\" \"):\n",
    "                        word.append(float(m))\n",
    "                    res.append(word)\n",
    "                    cpt+=1\n",
    "                    word = []\n",
    "        return res\n",
    "\n",
    "    def fit_transform(filename):\n",
    "        lines = fit(filename)\n",
    "        transform = transform(lines, filename)\n",
    "        return list_to_array(transform)\n",
    "\n"
   ]
  },
  {
   "cell_type": "code",
=======
>>>>>>> ipynb updated
   "execution_count": null,
   "metadata": {},
   "outputs": [],
   "source": []
  }
 ],
 "metadata": {
  "kernelspec": {
   "display_name": "Python 3",
   "language": "python",
   "name": "python3"
<<<<<<< HEAD
  },
  "language_info": {
   "codemirror_mode": {
    "name": "ipython",
    "version": 3
   },
   "file_extension": ".py",
   "mimetype": "text/x-python",
   "name": "python",
   "nbconvert_exporter": "python",
   "pygments_lexer": "ipython3",
   "version": "3.6.8"
=======
>>>>>>> ipynb updated
  }
 },
 "nbformat": 4,
 "nbformat_minor": 1
}
