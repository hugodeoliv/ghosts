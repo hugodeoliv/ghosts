{
 "cells": [
  {
   "cell_type": "code",
   "execution_count": 14,
   "metadata": {
    "collapsed": false
   },
   "outputs": [
    {
     "name": "stdout",
     "output_type": "stream",
     "text": [
      "The autoreload extension is already loaded. To reload it, use:\n",
      "  %reload_ext autoreload\n"
     ]
    }
   ],
   "source": [
    "%load_ext autoreload\n",
    "%autoreload 2\n",
    "%matplotlib inline\n",
    "\n",
    "from sklearn.datasets import make_regression\n",
    "import matplotlib.pyplot as plt\n",
    "import pandas as pd\n",
    "\n",
    "from tobit import *"
   ]
  },
  {
   "cell_type": "markdown",
   "metadata": {},
   "source": [
    "# Recovers true coefficients on artificial censored regression data"
   ]
  },
  {
   "cell_type": "code",
   "execution_count": 15,
   "metadata": {
    "collapsed": false
   },
   "outputs": [],
   "source": [
    "rs = np.random.RandomState(seed=10)\n",
    "ns = 100\n",
    "nf = 10\n",
    "x, y_orig, coef = make_regression(n_samples=ns, n_features=nf, coef=True, noise=0.0, random_state=rs)\n",
    "x = pd.DataFrame(x)\n",
    "y = pd.Series(y_orig)"
   ]
  },
  {
   "cell_type": "code",
   "execution_count": 16,
   "metadata": {
    "collapsed": false
   },
   "outputs": [
    {
     "data": {
      "image/png": "[encoded data removed]",
      "text/plain": [
       "<matplotlib.figure.Figure at 0x7f6db0ce9290>"
      ]
     },
     "metadata": {},
     "output_type": "display_data"
    }
   ],
   "source": [
    "n_quantiles = 3 # two-thirds of the data is truncated\n",
    "quantile = 100/float(n_quantiles)\n",
    "lower = np.percentile(y, quantile)\n",
    "upper = np.percentile(y, (n_quantiles - 1) * quantile)\n",
    "left = y < lower\n",
    "right = y > upper\n",
    "cens = pd.Series(np.zeros((ns,)))\n",
    "cens[left] = -1\n",
    "cens[right] = 1\n",
    "y = y.clip(upper=upper, lower=lower)\n",
    "hist = plt.hist(y)"
   ]
  },
  {
   "cell_type": "code",
   "execution_count": 17,
   "metadata": {
    "collapsed": false
   },
   "outputs": [],
   "source": [
    "tr = TobitModel()\n",
    "result = tr.fit(x, y, cens, verbose=False)"
   ]
  },
  {
   "cell_type": "code",
   "execution_count": 18,
   "metadata": {
    "collapsed": false
   },
   "outputs": [
    {
     "data": {
      "image/png": "[encoded data removed]",
      "text/plain": [
       "<matplotlib.figure.Figure at 0x7f6db0d4b4d0>"
      ]
     },
     "metadata": {},
     "output_type": "display_data"
    }
   ],
   "source": [
    "fig, ax = plt.subplots()\n",
    "ind = np.arange(len(coef))\n",
    "width = 0.25\n",
    "rects1 = ax.bar(ind, coef, width, color='g', label='True')\n",
    "rects2 = ax.bar(ind + width, tr.coef_, width, color='r', label='Tobit')\n",
    "rects3 = ax.bar(ind + (2 * width), tr.ols_coef_, width, color='b', label='OLS')\n",
    "plt.ylabel(\"Coefficient\")\n",
    "plt.xlabel(\"Index of regressor\")\n",
    "plt.title(\"Tobit vs. OLS on censored data\")\n",
    "leg = plt.legend(loc=(0.22, 0.65))"
   ]
  },
  {
   "cell_type": "markdown",
   "metadata": {},
   "source": [
    "Note that the truncation values do not have to be the same for e.g. all left-censored observations, or all right-censored observations, as in this example. However, the model does assume that the errors will be normally-distributed."
   ]
  },
  {
   "cell_type": "markdown",
   "metadata": {},
   "source": [
    "# Comparison to R censReg package result on AER data"
   ]
  },
  {
   "cell_type": "markdown",
   "metadata": {
    "collapsed": false
   },
   "source": [
    "## Commands in R for Tobit analysis of Affairs data:\n",
    "```\n",
    "install.packages('censReg')\n",
    "library(censReg)\n",
    "install.packages('AER')\n",
    "data('Affairs', package='AER')\n",
    "write.table(Affairs, 'tobit_data.txt', quote=FALSE, row.names=FALSE)\n",
    "estResult <- censReg( affairs ~ age + yearsmarried + religiousness +occupation + rating, data = Affairs)\n",
    "summary(estResult)\n",
    "```"
   ]
  },
  {
   "cell_type": "markdown",
   "metadata": {},
   "source": [
    "## Python analysis of same data"
   ]
  },
  {
   "cell_type": "code",
   "execution_count": 19,
   "metadata": {
    "collapsed": false
   },
   "outputs": [
    {
     "data": {
      "text/html": [
       "<div style=\"max-height:1000px;max-width:1500px;overflow:auto;\">\n",
       "<table border=\"1\" class=\"dataframe\">\n",
       "  <thead>\n",
       "    <tr style=\"text-align: right;\">\n",
       "      <th></th>\n",
       "      <th>affairs</th>\n",
       "      <th>gender</th>\n",
       "      <th>age</th>\n",
       "      <th>yearsmarried</th>\n",
       "      <th>children</th>\n",
       "      <th>religiousness</th>\n",
       "      <th>education</th>\n",
       "      <th>occupation</th>\n",
       "      <th>rating</th>\n",
       "    </tr>\n",
       "  </thead>\n",
       "  <tbody>\n",
       "    <tr>\n",
       "      <th>0</th>\n",
       "      <td> 0</td>\n",
       "      <td> 1</td>\n",
       "      <td> 37</td>\n",
       "      <td> 10.00</td>\n",
       "      <td> 0</td>\n",
       "      <td> 3</td>\n",
       "      <td> 18</td>\n",
       "      <td> 7</td>\n",
       "      <td> 4</td>\n",
       "    </tr>\n",
       "    <tr>\n",
       "      <th>1</th>\n",
       "      <td> 0</td>\n",
       "      <td> 0</td>\n",
       "      <td> 27</td>\n",
       "      <td>  4.00</td>\n",
       "      <td> 0</td>\n",
       "      <td> 4</td>\n",
       "      <td> 14</td>\n",
       "      <td> 6</td>\n",
       "      <td> 4</td>\n",
       "    </tr>\n",
       "    <tr>\n",
       "      <th>2</th>\n",
       "      <td> 0</td>\n",
       "      <td> 0</td>\n",
       "      <td> 32</td>\n",
       "      <td> 15.00</td>\n",
       "      <td> 1</td>\n",
       "      <td> 1</td>\n",
       "      <td> 12</td>\n",
       "      <td> 1</td>\n",
       "      <td> 4</td>\n",
       "    </tr>\n",
       "    <tr>\n",
       "      <th>3</th>\n",
       "      <td> 0</td>\n",
       "      <td> 1</td>\n",
       "      <td> 57</td>\n",
       "      <td> 15.00</td>\n",
       "      <td> 1</td>\n",
       "      <td> 5</td>\n",
       "      <td> 18</td>\n",
       "      <td> 6</td>\n",
       "      <td> 5</td>\n",
       "    </tr>\n",
       "    <tr>\n",
       "      <th>4</th>\n",
       "      <td> 0</td>\n",
       "      <td> 1</td>\n",
       "      <td> 22</td>\n",
       "      <td>  0.75</td>\n",
       "      <td> 0</td>\n",
       "      <td> 2</td>\n",
       "      <td> 17</td>\n",
       "      <td> 6</td>\n",
       "      <td> 3</td>\n",
       "    </tr>\n",
       "  </tbody>\n",
       "</table>\n",
       "</div>"
      ],
      "text/plain": [
       "   affairs  gender  age  yearsmarried  children  religiousness  education  \\\n",
       "0        0       1   37         10.00         0              3         18   \n",
       "1        0       0   27          4.00         0              4         14   \n",
       "2        0       0   32         15.00         1              1         12   \n",
       "3        0       1   57         15.00         1              5         18   \n",
       "4        0       1   22          0.75         0              2         17   \n",
       "\n",
       "   occupation  rating  \n",
       "0           7       4  \n",
       "1           6       4  \n",
       "2           1       4  \n",
       "3           6       5  \n",
       "4           6       3  "
      ]
     },
     "execution_count": 19,
     "metadata": {},
     "output_type": "execute_result"
    }
   ],
   "source": [
    "data_file = 'tobit_data.txt'\n",
    "df = pd.read_table(data_file, sep=' ')\n",
    "df.loc[df.gender=='male', 'gender'] = 1\n",
    "df.loc[df.gender=='female', 'gender'] = 0\n",
    "df.loc[df.children=='yes', 'children'] = 1\n",
    "df.loc[df.children=='no', 'children'] = 0\n",
    "df = df.astype(float)\n",
    "df.head()"
   ]
  },
  {
   "cell_type": "code",
   "execution_count": 20,
   "metadata": {
    "collapsed": false
   },
   "outputs": [
    {
     "data": {
      "text/plain": [
       "-1    451\n",
       " 0    150\n",
       "dtype: int64"
      ]
     },
     "execution_count": 20,
     "metadata": {},
     "output_type": "execute_result"
    }
   ],
   "source": [
    "y = df.affairs\n",
    "x = df.drop(['affairs', 'gender', 'education', 'children'], axis=1)\n",
    "cens = pd.Series(np.zeros((len(y),)))\n",
    "cens[y==0] = -1\n",
    "cens.value_counts()"
   ]
  },
  {
   "cell_type": "code",
   "execution_count": 24,
   "metadata": {
    "collapsed": false
   },
   "outputs": [],
   "source": [
    "tr = TobitModel()\n",
    "tr = tr.fit(x, y, cens, verbose=False)"
   ]
  },
  {
   "cell_type": "code",
   "execution_count": 23,
   "metadata": {
    "collapsed": false
   },
   "outputs": [
    {
     "data": {
      "text/plain": [
       "array([-0.17933256,  0.55414179, -1.68622027,  0.32605329, -2.2849727 ])"
      ]
     },
     "execution_count": 23,
     "metadata": {},
     "output_type": "execute_result"
    }
   ],
   "source": [
    "tr.coef_"
   ]
  },
  {
   "cell_type": "markdown",
   "metadata": {},
   "source": [
    "Note that the coefficients are identical to those obtained in the R analysis."
   ]
  }
 ],
 "metadata": {
  "kernelspec": {
   "display_name": "Python 2",
   "language": "python",
   "name": "python2"
  },
  "language_info": {
   "codemirror_mode": {
    "name": "ipython",
    "version": 2
   },
   "file_extension": ".py",
   "mimetype": "text/x-python",
   "name": "python",
   "nbconvert_exporter": "python",
   "pygments_lexer": "ipython2",
   "version": "2.7.9"
  }
 },
 "nbformat": 4,
 "nbformat_minor": 0
}
